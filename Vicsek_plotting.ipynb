{
 "cells": [
  {
   "cell_type": "code",
   "execution_count": null,
   "metadata": {},
   "outputs": [],
   "source": [
    "import glob\n",
    "from matplotlib.animation import FuncAnimation, PillowWriter, FFMpegWriter\n",
    "import matplotlib.pyplot as plt\n",
    "plt.rcParams[\"font.family\"] = \"Times New Roman\"\n",
    "plt.rcParams[\"font.size\"] = \"11\"\n",
    "import numpy as np\n",
    "from scipy.spatial.distance import pdist, squareform\n",
    "from sklearn.cluster import DBSCAN"
   ]
  },
  {
   "cell_type": "markdown",
   "metadata": {},
   "source": [
    "# Vicsek_bands"
   ]
  },
  {
   "cell_type": "markdown",
   "metadata": {},
   "source": [
    "### Start and End"
   ]
  },
  {
   "cell_type": "code",
   "execution_count": null,
   "metadata": {},
   "outputs": [],
   "source": [
    "bands_paths = glob.glob(\"../plotting_data/bands/pos_ang2_*.npz\")\n",
    "bands_paths.sort()\n",
    "\n",
    "bands_start = np.load(bands_paths[1])\n",
    "bands_start_pos = bands_start[\"positions\"]\n",
    "bands_start_ang = bands_start[\"angles\"]\n",
    "\n",
    "bands_end = np.load(bands_paths[-1])\n",
    "bands_end_pos = bands_end[\"positions\"]\n",
    "bands_end_ang = bands_end[\"angles\"]\n",
    "    \n",
    "print(f\"start positions length: {len(bands_start_pos)}\")\n",
    "print(f\"start angles length: {len(bands_start_ang)}\")\n",
    "print(f\"end positions length: {len(bands_end_pos)}\")\n",
    "print(f\"end angles length: {len(bands_end_ang)}\")"
   ]
  },
  {
   "cell_type": "code",
   "execution_count": null,
   "metadata": {},
   "outputs": [],
   "source": [
    "fig, (ax1, ax2) = plt.subplots(1, 2, figsize = (7, 3))\n",
    "\n",
    "ax1.set_aspect(\"equal\")\n",
    "qv1 = ax1.quiver(bands_start_pos[:,0], bands_start_pos[:,1], np.cos(bands_start_ang), np.sin(bands_start_ang), bands_start_ang, clim = [-np.pi, np.pi], cmap = \"hsv\")\n",
    "qv1.set_offsets(bands_start_pos)\n",
    "qv1.set_UVC(np.cos(bands_start_ang), np.sin(bands_start_ang), bands_start_ang)\n",
    "ax1.set_title(\"Frame 1\")\n",
    "ax1.set_xlabel(\"x (r)\")\n",
    "ax1.set_ylabel(\"y (r)\")\n",
    "ax1.set_xticks(range(0, 51, 10))\n",
    "ax1.set_yticks(range(0, 51, 10))\n",
    "ax1.set_xlim(0, 50)\n",
    "ax1.set_ylim(0, 50)\n",
    "\n",
    "ax2.set_aspect(\"equal\")\n",
    "qv2 = ax2.quiver(bands_end_pos[:,0], bands_end_pos[:,1], np.cos(bands_end_ang), np.sin(bands_end_ang), bands_end_ang, clim = [-np.pi, np.pi], cmap = \"hsv\")\n",
    "qv2.set_offsets(bands_end_pos)\n",
    "qv2.set_UVC(np.cos(bands_end_ang), np.sin(bands_end_ang), bands_end_ang)\n",
    "ax2.set_title(\"Frame 5000\")\n",
    "ax2.set_xlabel(\"x (r)\")\n",
    "ax2.set_ylabel(\"y (r)\")\n",
    "ax2.set_xticks(range(0, 51, 10))\n",
    "ax2.set_yticks(range(0, 51, 10))\n",
    "ax2.set_xlim(0, 50)\n",
    "ax2.set_ylim(0, 50)\n",
    "\n",
    "plt.tight_layout()\n",
    "plt.savefig(\"../report_figs/bands_frames.png\", dpi = 300)\n",
    "plt.show()"
   ]
  },
  {
   "cell_type": "markdown",
   "metadata": {},
   "source": [
    "### Order Parameter"
   ]
  },
  {
   "cell_type": "code",
   "execution_count": null,
   "metadata": {},
   "outputs": [],
   "source": [
    "bands_order_param = {}\n",
    "bands_steady_reached = {}\n",
    "bands_steady_time = {}\n",
    "\n",
    "for eta in range(1, 6):\n",
    "    bands_order = np.load(f\"../plotting_data/bands/order{eta}.npz\")\n",
    "    bands_order_param[eta] = bands_order[\"order\"]\n",
    "    bands_steady_reached[eta] = bands_order[\"steady_reached\"]\n",
    "    bands_steady_time[eta] = bands_order[\"steady_time\"]\n",
    "    \n",
    "    if eta ==2:\n",
    "        bands_order_param2 = bands_order_param[eta]\n",
    "        bands_steady_reached2 = bands_steady_reached[eta]\n",
    "        bands_steady_time2 = bands_steady_time[eta]\n",
    "        \n",
    "    print(f\"eta: 0.{eta}\")\n",
    "    print(f\"order parameter length: {len(bands_order_param[eta])}\")\n",
    "\n",
    "print(f\"order parameter 2 length: {len(bands_order_param2)}\")\n",
    "    \n",
    "time_step = 10"
   ]
  },
  {
   "cell_type": "code",
   "execution_count": null,
   "metadata": {},
   "outputs": [],
   "source": [
    "fig, ax = plt.subplots(figsize = (3.5, 2.5))\n",
    "\n",
    "colors = {1: \"#4477AA\", 2: \"#228833\", 3: \"#CCBB44\", 4: \"#EE6677\", 5: \"#AA3377\"}\n",
    "\n",
    "for eta in range(1, 6):\n",
    "    times = np.arange(0, 2000, 10)\n",
    "    order, = ax.plot(times, bands_order_param[eta][:200], label = f\"0.{eta}\", color = colors[eta])\n",
    "    order_colour = order.get_color()\n",
    "    if bands_steady_reached[eta] == True:\n",
    "        ax.axvline(x = bands_steady_time[eta] * time_step, color = order_colour, linestyle = \"--\")\n",
    "ax.set_xlabel(\"t\")\n",
    "ax.set_ylabel(\"$\\phi$(t)\")\n",
    "ax.set_xticks(np.arange(0, 2001, 500))\n",
    "ax.set_ylim(0, 1.0)\n",
    "ax.legend(loc = \"center right\", labelspacing = 0.1, handlelength = 1.0, handletextpad = 0.1, borderaxespad = 0.1)\n",
    "plt.tight_layout()\n",
    "plt.savefig(\"../report_figs/bands_order.png\", dpi = 300)\n",
    "plt.show()"
   ]
  },
  {
   "cell_type": "markdown",
   "metadata": {},
   "source": [
    "### Clustering"
   ]
  },
  {
   "cell_type": "code",
   "execution_count": null,
   "metadata": {},
   "outputs": [],
   "source": [
    "bands_num_clust = {}\n",
    "bands_particle_clust = {}\n",
    "\n",
    "for eta in range(1, 6):\n",
    "    bands_clusters = np.load(f\"../plotting_data/bands/clusters{eta}.npz\")\n",
    "    bands_num_clust[eta] = bands_clusters[\"num_clust\"]\n",
    "    bands_particle_clust[eta] = bands_clusters[\"particle_clust\"]\n",
    "    \n",
    "    if eta == 2:\n",
    "        bands_num_clust2 = bands_num_clust[eta]\n",
    "        bands_particle_clust2 = bands_particle_clust[eta]\n",
    "    \n",
    "    print(f\"eta: 0.{eta}\")\n",
    "    print(f\"num clusters length: {len(bands_num_clust[eta])}\")\n",
    "    print(f\"particles/cluster length: {len(bands_particle_clust[eta])}\")\n",
    "    \n",
    "print(f\"num clusters 2 length: {len(bands_num_clust2)}\")\n",
    "print(f\"particles/cluster 2 length: {len(bands_particle_clust2)}\")"
   ]
  },
  {
   "cell_type": "code",
   "execution_count": null,
   "metadata": {},
   "outputs": [],
   "source": [
    "fig, ax = plt.subplots(figsize = (3.5, 2.5))\n",
    "\n",
    "colors = {1: \"#4477AA\", 2: \"#228833\", 3: \"#CCBB44\", 4: \"#EE6677\", 5: \"#AA3377\"}\n",
    "\n",
    "for eta in range(1, 6):\n",
    "    time_scale = np.arange(1000, 2001, 10)\n",
    "    ax.plot(time_scale, bands_particle_clust[eta][100:201], label = f\"0.{eta}\", color = colors[eta])\n",
    "ax.set_xlabel(\"t\")\n",
    "ax.set_ylabel(\"$N_C$\")\n",
    "ax.set_xticks(np.arange(1000, 2001, 500))\n",
    "ax.set_ylim(0, 500)\n",
    "ax.legend(loc = \"upper right\", labelspacing = 0.1, handlelength = 1.0, handletextpad = 0.1, borderaxespad = 0.1)\n",
    "plt.tight_layout()\n",
    "plt.savefig(\"../report_figs/bands_clusters.png\", dpi = 300)\n",
    "plt.show()"
   ]
  },
  {
   "cell_type": "markdown",
   "metadata": {},
   "source": [
    "### Average Angles"
   ]
  },
  {
   "cell_type": "code",
   "execution_count": null,
   "metadata": {},
   "outputs": [],
   "source": [
    "bands_avg_ang = {}\n",
    "\n",
    "for eta in range(1, 6):\n",
    "    bands_avg_angs = np.load(f\"../plotting_data/bands/avg_ang{eta}.npz\")\n",
    "    bands_avg_ang[eta] = bands_avg_angs[\"angles\"]\n",
    "    \n",
    "    print(f\"eta: 0.{eta}\")\n",
    "    print(f\"average angles length: {len(bands_avg_ang[eta])}\")\n",
    "\n",
    "time_step = 10\n"
   ]
  },
  {
   "cell_type": "code",
   "execution_count": null,
   "metadata": {},
   "outputs": [],
   "source": [
    "fig, ax = plt.subplots(figsize = (3.5, 2.5))\n",
    "for eta in range(1, 6):\n",
    "    times = np.arange(0, 5000, 10)\n",
    "    ax.plot(times, bands_avg_ang[eta], label = f\"$\\eta$=0.{eta}\")\n",
    "ax.set_xlabel(\"t\")\n",
    "ax.set_ylabel(r\"$\\theta$(t) (radians)\")\n",
    "ax.set_xticks(range(0, 5001, 1000))\n",
    "ax.legend()\n",
    "plt.tight_layout()\n",
    "# plt.savefig(\"repulsive_alignment_14.png\", dpi = 300)\n",
    "plt.show()"
   ]
  },
  {
   "cell_type": "markdown",
   "metadata": {},
   "source": [
    "### Histogram"
   ]
  },
  {
   "cell_type": "code",
   "execution_count": null,
   "metadata": {},
   "outputs": [],
   "source": [
    "bands_hist = {}\n",
    "hist_normalised = {}\n",
    "\n",
    "for eta in range(1, 6):\n",
    "    bands_hists = np.load(f\"../plotting_data/bands/hist{eta}.npz\")\n",
    "    bands_hist[eta] = bands_hists[\"hist\"]\n",
    "    hist_normalised[eta] = bands_hist[eta].T / sum(bands_hist[eta])\n",
    "    \n",
    "    print(f\"eta: 0.{eta}\")\n",
    "    print(f\"hist length: {len(bands_hist[eta])}\")\n",
    "\n",
    "L = 50"
   ]
  },
  {
   "cell_type": "code",
   "execution_count": null,
   "metadata": {},
   "outputs": [],
   "source": [
    "# for eta in range(1, 6):\n",
    "fig, ax = plt.subplots(figsize = (3.5, 2.5))\n",
    "cax = ax.imshow(hist_normalised[2], extent = [0, L, 0, L], origin = \"lower\", cmap = \"hot\", aspect = \"auto\")\n",
    "ax.set_xlabel(\"x (r)\")\n",
    "ax.set_ylabel(\"y (r)\")\n",
    "ax.set_xticks(range(0, 51, 10))\n",
    "ax.set_yticks(range(0, 51, 10))\n",
    "fig.colorbar(cax, ax = ax, label = r\"$\\rho$ ($rL^{-3}$)\")\n",
    "plt.tight_layout()\n",
    "# plt.savefig(\"repulsive_densitymap_14.png\", dpi = 300)\n",
    "plt.show()"
   ]
  },
  {
   "cell_type": "markdown",
   "metadata": {},
   "source": [
    "# Vicsek_bands_city"
   ]
  },
  {
   "cell_type": "markdown",
   "metadata": {},
   "source": [
    "### Start and End"
   ]
  },
  {
   "cell_type": "code",
   "execution_count": null,
   "metadata": {},
   "outputs": [],
   "source": [
    "city_paths = glob.glob(\"../plotting_data/bands_city/pos_ang*.npz\")\n",
    "city_paths.sort()\n",
    "\n",
    "city_start = np.load(city_paths[5])\n",
    "city_start_pos = city_start[\"positions\"]\n",
    "city_start_ang = city_start[\"angles\"]\n",
    "\n",
    "city_end = np.load(city_paths[-1])\n",
    "city_end_pos = city_end[\"positions\"]\n",
    "city_end_ang = city_end[\"angles\"]\n",
    "    \n",
    "city_barriers = np.load(\"../plotting_data/bands_city/barriers.npy\")\n",
    "boundary = 1\n",
    "    \n",
    "print(f\"start positions length: {len(city_start_pos)}\")\n",
    "print(f\"start angles length: {len(city_start_ang)}\")\n",
    "print(f\"end positions length: {len(city_end_pos)}\")\n",
    "print(f\"end angles length: {len(city_end_ang)}\")\n",
    "print(f\"barriers:\\n{city_barriers}\")"
   ]
  },
  {
   "cell_type": "code",
   "execution_count": null,
   "metadata": {},
   "outputs": [],
   "source": [
    "# fig, (ax1, ax2) = plt.subplots(1, 2, figsize = (7, 3))\n",
    "\n",
    "# ax1.set_aspect(\"equal\")\n",
    "# qv1 = ax1.quiver(city_start_pos[:,0], city_start_pos[:,1], np.cos(city_start_ang), np.sin(city_start_ang), city_start_ang, clim = [-np.pi, np.pi], cmap = \"hsv\")\n",
    "# qv1.set_offsets(city_start_pos)\n",
    "# qv1.set_UVC(np.cos(city_start_ang), np.sin(city_start_ang), city_start_ang)\n",
    "# for barrier_x_start, barrier_x_end, barrier_y_start, barrier_y_end in city_barriers:\n",
    "#     ax1.add_patch(plt.Rectangle((barrier_x_start, barrier_y_start), barrier_x_end - barrier_x_start, barrier_y_end - barrier_y_start, color = \"grey\", alpha = 0.5))\n",
    "#     ax1.add_patch(plt.Rectangle((barrier_x_start - boundary, barrier_y_start - boundary), (barrier_x_end + boundary) - (barrier_x_start - boundary), (barrier_y_end + boundary) - (barrier_y_start - boundary), edgecolor = \"grey\", fill = False))\n",
    "# ax1.set_title(\"Frame 3\")\n",
    "# ax1.set_xlabel(\"x (r)\")\n",
    "# ax1.set_ylabel(\"y (r)\")\n",
    "# ax1.set_xticks(range(0, 51, 10))\n",
    "# ax1.set_yticks(range(0, 51, 10))\n",
    "# ax1.set_xlim(0, 50)\n",
    "# ax1.set_ylim(0, 50)\n",
    "\n",
    "# ax2.set_aspect(\"equal\")\n",
    "\n",
    "fig, ax2 = plt.subplots(figsize = (3.5, 3.5))\n",
    "qv2 = ax2.quiver(city_end_pos[:,0], city_end_pos[:,1], np.cos(city_end_ang), np.sin(city_end_ang), city_end_ang, clim = [-np.pi, np.pi], cmap = \"hsv\")\n",
    "qv2.set_offsets(city_end_pos)\n",
    "qv2.set_UVC(np.cos(city_end_ang), np.sin(city_end_ang), city_end_ang)\n",
    "for barrier_x_start, barrier_x_end, barrier_y_start, barrier_y_end in city_barriers:\n",
    "    ax2.add_patch(plt.Rectangle((barrier_x_start, barrier_y_start), barrier_x_end - barrier_x_start, barrier_y_end - barrier_y_start, color = \"grey\", alpha = 0.5))\n",
    "    ax2.add_patch(plt.Rectangle((barrier_x_start - boundary, barrier_y_start - boundary), (barrier_x_end + boundary) - (barrier_x_start - boundary), (barrier_y_end + boundary) - (barrier_y_start - boundary), edgecolor = \"grey\", fill = False, linestyle = \"--\"))\n",
    "ax2.set_xlabel(\"x (r)\")\n",
    "ax2.set_ylabel(\"y (r)\")\n",
    "ax2.set_xticks(range(0, 51, 10))\n",
    "ax2.set_yticks(range(0, 51, 10))\n",
    "ax2.set_xlim(0, 50)\n",
    "ax2.set_ylim(0, 50)\n",
    "\n",
    "plt.tight_layout()\n",
    "plt.savefig(\"../report_figs/city_frames.png\", dpi = 300)\n",
    "plt.show()"
   ]
  },
  {
   "cell_type": "markdown",
   "metadata": {},
   "source": [
    "### Order Parameter"
   ]
  },
  {
   "cell_type": "code",
   "execution_count": null,
   "metadata": {},
   "outputs": [],
   "source": [
    "city_order = np.load(\"../plotting_data/bands_city/order.npz\")\n",
    "city_order_param = city_order[\"order\"]\n",
    "city_steady_reached = city_order[\"steady_reached\"]\n",
    "city_steady_time = city_order[\"steady_time\"]\n",
    "\n",
    "time_step = 10\n",
    "    \n",
    "print(f\"order parameter length: {len(city_order_param)}\")"
   ]
  },
  {
   "cell_type": "code",
   "execution_count": null,
   "metadata": {},
   "outputs": [],
   "source": [
    "fig, ax = plt.subplots(figsize = (3.5, 2.5))\n",
    "times = np.arange(0, 5000, 10)\n",
    "order, = ax.plot(times, city_order_param, color = \"#228833\")\n",
    "order_colour = order.get_color()\n",
    "if city_steady_reached == True:\n",
    "    ax.axvline(x = city_steady_time * time_step, color = order_colour, linestyle = \"--\")\n",
    "ax.set_xlabel(\"t\")\n",
    "ax.set_ylabel(r\"$\\phi$(t)\")\n",
    "ax.set_xticks(np.arange(0, 5001, 1000))\n",
    "plt.tight_layout()\n",
    "# plt.savefig(\"Poster_city_order.png\", dpi = 300)\n",
    "plt.show()"
   ]
  },
  {
   "cell_type": "markdown",
   "metadata": {},
   "source": [
    "### Clustering"
   ]
  },
  {
   "cell_type": "code",
   "execution_count": null,
   "metadata": {},
   "outputs": [],
   "source": [
    "city_clusters = np.load(\"../plotting_data/bands_city/clusters.npz\")\n",
    "city_num_clust = city_clusters[\"num_clust\"]\n",
    "city_particle_clust = city_clusters[\"particle_clust\"]\n",
    "    \n",
    "print(f\"num clusters length: {len(city_num_clust)}\")\n",
    "print(f\"particles/cluster length: {len(city_particle_clust)}\")"
   ]
  },
  {
   "cell_type": "code",
   "execution_count": null,
   "metadata": {},
   "outputs": [],
   "source": [
    "fig, ax = plt.subplots(figsize = (3.5, 2.5))\n",
    "time_scale = np.arange(3000, 5001, 10)\n",
    "ax.plot(time_scale, city_particle_clust[300:], color = \"#228833\")\n",
    "ax.set_xlabel(\"t\")\n",
    "ax.set_ylabel(\"$N_C$\")\n",
    "ax.set_xticks(np.arange(3000, 5001, 500))\n",
    "plt.tight_layout()\n",
    "# plt.savefig(\"Poster_city_clusters.png\", dpi = 300)\n",
    "plt.show()"
   ]
  },
  {
   "cell_type": "markdown",
   "metadata": {},
   "source": [
    "### Flux and Stream"
   ]
  },
  {
   "cell_type": "code",
   "execution_count": null,
   "metadata": {},
   "outputs": [],
   "source": [
    "city_flow = np.load(\"../plotting_data/bands_city/flow.npz\")\n",
    "city_vx = city_flow[\"vx\"]\n",
    "city_vy = city_flow[\"vy\"]\n",
    "city_counts = city_flow[\"counts\"]\n",
    "city_vxedges = city_flow[\"vxedges\"]\n",
    "city_vyedges = city_flow[\"vyedges\"]\n",
    "    \n",
    "print(f\"vx length: {len(city_vx)}\")\n",
    "print(f\"vy length: {len(city_vy)}\")\n",
    "print(f\"counts length: {len(city_counts)}\")\n",
    "print(f\"vxedges length: {len(city_vxedges)}\")\n",
    "print(f\"vyedges length: {len(city_vyedges)}\")"
   ]
  },
  {
   "cell_type": "code",
   "execution_count": null,
   "metadata": {},
   "outputs": [],
   "source": [
    "avg_vx = np.zeros_like(city_vx) # empty array for average x velocity flux\n",
    "avg_vy = np.zeros_like(city_vy)\n",
    "avg_vx[city_counts > 0] = city_vx[city_counts > 0] / city_counts[city_counts > 0] # calculate average velocity flux where counts > 0\n",
    "avg_vy[city_counts > 0] = city_vy[city_counts > 0] / city_counts[city_counts > 0]\n",
    "\n",
    "X, Y = np.meshgrid(city_vxedges[:-1], city_vyedges[:-1])\n",
    "\n",
    "# only plot inside the box (not the movement in and out of the edges of the box)\n",
    "avg_vx_inner = avg_vx[1:-1, 1:-1]\n",
    "avg_vy_inner = avg_vy[1:-1, 1:-1]\n",
    "\n",
    "X_inner, Y_inner = np.meshgrid(city_vxedges[1:avg_vx_inner.shape[0]+1], city_vyedges[1:avg_vx_inner.shape[1]+1])"
   ]
  },
  {
   "cell_type": "code",
   "execution_count": null,
   "metadata": {},
   "outputs": [],
   "source": [
    "fig, ax = plt.subplots(figsize = (3.5, 3.5))\n",
    "ax.quiver(X_inner, Y_inner, avg_vx_inner.T, avg_vy_inner.T, scale = 20, headwidth = 5)\n",
    "ax.set_xlabel(\"x (r)\")\n",
    "ax.set_ylabel(\"y (r)\")\n",
    "ax.set_xticks(range(0, 51, 10))\n",
    "ax.set_yticks(range(0, 51, 10))\n",
    "ax.set_xlim(0, 50)\n",
    "ax.set_ylim(0, 50)\n",
    "plt.tight_layout()\n",
    "plt.savefig(\"../report_figs/city_flux.png\", dpi = 300)\n",
    "plt.show()"
   ]
  },
  {
   "cell_type": "code",
   "execution_count": null,
   "metadata": {},
   "outputs": [],
   "source": [
    "fig, ax = plt.subplots(figsize = (3.5, 3.5))\n",
    "ax.streamplot(X_inner, Y_inner, avg_vx_inner.T, avg_vy_inner.T, density = 1, linewidth = 1, color = \"black\")\n",
    "ax.set_xlabel(\"x (r)\")\n",
    "ax.set_ylabel(\"y (r)\")\n",
    "ax.set_xticks(range(0, 51, 10))\n",
    "ax.set_yticks(range(0, 51, 10))\n",
    "ax.set_xlim(0, 50)\n",
    "ax.set_ylim(0, 50)\n",
    "plt.tight_layout()\n",
    "plt.savefig(\"../report_figs/city_stream.png\", dpi = 300)\n",
    "plt.show()"
   ]
  },
  {
   "cell_type": "code",
   "execution_count": null,
   "metadata": {},
   "outputs": [],
   "source": [
    "fig, ax = plt.subplots(figsize = (3.5, 3.5))\n",
    "ax.quiver(X_inner, Y_inner, avg_vx_inner.T, avg_vy_inner.T, scale = 20, headwidth = 5, color = \"red\")\n",
    "ax.streamplot(X_inner, Y_inner, avg_vx_inner.T, avg_vy_inner.T, density = 1, linewidth = 1, color = \"black\")\n",
    "for barrier_x_start, barrier_x_end, barrier_y_start, barrier_y_end in city_barriers:\n",
    "    ax.add_patch(plt.Rectangle((barrier_x_start, barrier_y_start), barrier_x_end - barrier_x_start, barrier_y_end - barrier_y_start, color = \"grey\", alpha = 0.5))\n",
    "ax.set_xlabel(\"x (r)\")\n",
    "ax.set_ylabel(\"y (r)\")\n",
    "ax.set_xticks(range(0, 51, 10))\n",
    "ax.set_yticks(range(0, 51, 10))\n",
    "ax.set_xlim(0, 50)\n",
    "ax.set_ylim(0, 50)\n",
    "plt.tight_layout()\n",
    "plt.savefig(\"../report_figs/city_flow.png\", dpi = 300)\n",
    "plt.show()"
   ]
  },
  {
   "cell_type": "markdown",
   "metadata": {},
   "source": [
    "### Average Angles"
   ]
  },
  {
   "cell_type": "code",
   "execution_count": null,
   "metadata": {},
   "outputs": [],
   "source": [
    "city_avg_angs = np.load(\"../plotting_data/bands_city/avg_ang.npz\")\n",
    "city_avg_ang = city_avg_angs[\"angles\"]\n",
    "\n",
    "time_step = 10\n",
    "    \n",
    "print(f\"average angles length: {len(city_avg_ang)}\")"
   ]
  },
  {
   "cell_type": "code",
   "execution_count": null,
   "metadata": {},
   "outputs": [],
   "source": [
    "fig, ax = plt.subplots(figsize = (3.5, 2.5))\n",
    "times = np.arange(0, 5000, 10)\n",
    "ax.plot(times, city_avg_ang)\n",
    "ax.set_xlabel(\"t\")\n",
    "ax.set_ylabel(r\"$\\theta$(t) (radians)\")\n",
    "ax.set_xticks(range(0, 5001, 1000))\n",
    "plt.tight_layout()\n",
    "# plt.savefig(\"repulsive_alignment_14.png\", dpi = 300)\n",
    "plt.show()"
   ]
  },
  {
   "cell_type": "markdown",
   "metadata": {},
   "source": [
    "### Histogram"
   ]
  },
  {
   "cell_type": "code",
   "execution_count": null,
   "metadata": {},
   "outputs": [],
   "source": [
    "city_hist = np.load(\"../plotting_data/bands_city/hist.npz\")\n",
    "city_hist = city_hist[\"hist\"]\n",
    "\n",
    "L = 50\n",
    "# normalise the histogram to cartesian coordinates for plotting\n",
    "hist_normalised = city_hist.T / sum(city_hist)\n",
    "    \n",
    "print(f\"hist length: {len(city_hist)}\")"
   ]
  },
  {
   "cell_type": "code",
   "execution_count": null,
   "metadata": {},
   "outputs": [],
   "source": [
    "fig, ax = plt.subplots(figsize = (3.5, 3.5))\n",
    "cax = ax.imshow(hist_normalised, extent = [0, L, 0, L], origin = \"lower\", cmap = \"hot\", aspect = \"auto\")\n",
    "ax.set_xlabel(\"x (r)\")\n",
    "ax.set_ylabel(\"y (r)\")\n",
    "ax.set_xticks(range(0, 51, 10))\n",
    "ax.set_yticks(range(0, 51, 10))\n",
    "fig.colorbar(cax, ax = ax, label = r\"$\\rho$ ($rL^{-3}$)\")\n",
    "plt.tight_layout()\n",
    "# plt.savefig(\"repulsive_densitymap_14.png\", dpi = 300)\n",
    "plt.show()"
   ]
  },
  {
   "cell_type": "markdown",
   "metadata": {},
   "source": [
    "# Vicsek_bands_repulsive"
   ]
  },
  {
   "cell_type": "markdown",
   "metadata": {},
   "source": [
    "### Start and End"
   ]
  },
  {
   "cell_type": "code",
   "execution_count": null,
   "metadata": {},
   "outputs": [],
   "source": [
    "repulsive_paths = glob.glob(\"../plotting_data/bands_repulsive/pos_ang*.npz\")\n",
    "repulsive_paths.sort()\n",
    "\n",
    "repulsive_start = np.load(repulsive_paths[5])\n",
    "repulsive_start_pos = repulsive_start[\"positions\"]\n",
    "repulsive_start_ang = repulsive_start[\"angles\"]\n",
    "\n",
    "repulsive_end = np.load(repulsive_paths[-1])\n",
    "repulsive_end_pos = repulsive_end[\"positions\"]\n",
    "repulsive_end_ang = repulsive_end[\"angles\"]\n",
    "\n",
    "barrier_x_start, barrier_x_end = 15, 35\n",
    "barrier_y_start, barrier_y_end = 15, 35\n",
    "boundary = 1\n",
    "    \n",
    "print(f\"start positions length: {len(repulsive_start_pos)}\")\n",
    "print(f\"start angles length: {len(repulsive_start_ang)}\")\n",
    "print(f\"end positions length: {len(repulsive_end_pos)}\")\n",
    "print(f\"end angles length: {len(repulsive_end_ang)}\")"
   ]
  },
  {
   "cell_type": "code",
   "execution_count": null,
   "metadata": {},
   "outputs": [],
   "source": [
    "# fig, (ax1, ax2) = plt.subplots(1, 2, figsize = (7, 3))\n",
    "\n",
    "# ax1.set_aspect(\"equal\")\n",
    "# qv1 = ax1.quiver(repulsive_start_pos[:,0], repulsive_start_pos[:,1], np.cos(repulsive_start_ang), np.sin(repulsive_start_ang), repulsive_start_ang, clim = [-np.pi, np.pi], cmap = \"hsv\")\n",
    "# qv1.set_offsets(repulsive_start_pos)\n",
    "# qv1.set_UVC(np.cos(repulsive_start_ang), np.sin(repulsive_start_ang), repulsive_start_ang)\n",
    "# ax1.add_patch(plt.Rectangle((barrier_x_start, barrier_y_start), barrier_x_end - barrier_x_start, barrier_y_end - barrier_y_start, color = \"grey\", alpha = 0.5))\n",
    "# ax1.add_patch(plt.Rectangle((barrier_x_start - boundary, barrier_y_start - boundary), (barrier_x_end + boundary) - (barrier_x_start - boundary), (barrier_y_end + boundary) - (barrier_y_start - boundary), edgecolor = \"grey\", fill = False))\n",
    "# ax1.set_title(\"Frame 3\")\n",
    "# ax1.set_xlabel(\"x (r)\")\n",
    "# ax1.set_ylabel(\"y (r)\")\n",
    "# ax1.set_xticks(range(0, 51, 10))\n",
    "# ax1.set_yticks(range(0, 51, 10))\n",
    "# ax1.set_xlim(0, 50)\n",
    "# ax1.set_ylim(0, 50)\n",
    "\n",
    "# ax2.set_aspect(\"equal\")\n",
    "\n",
    "fig, ax2 = plt.subplots(figsize = (3.5, 3.5))\n",
    "qv2 = ax2.quiver(repulsive_end_pos[:,0], repulsive_end_pos[:,1], np.cos(repulsive_end_ang), np.sin(repulsive_end_ang), repulsive_end_ang, clim = [-np.pi, np.pi], cmap = \"hsv\")\n",
    "qv2.set_offsets(repulsive_end_pos)\n",
    "qv2.set_UVC(np.cos(repulsive_end_ang), np.sin(repulsive_end_ang), repulsive_end_ang)\n",
    "ax2.add_patch(plt.Rectangle((barrier_x_start, barrier_y_start), barrier_x_end - barrier_x_start, barrier_y_end - barrier_y_start, color = \"grey\", alpha = 0.5))\n",
    "ax2.add_patch(plt.Rectangle((barrier_x_start - boundary, barrier_y_start - boundary), (barrier_x_end + boundary) - (barrier_x_start - boundary), (barrier_y_end + boundary) - (barrier_y_start - boundary), edgecolor = \"grey\", fill = False, linestyle = \"--\"))\n",
    "ax2.set_xlabel(\"x (r)\")\n",
    "ax2.set_ylabel(\"y (r)\")\n",
    "ax2.set_xticks(range(0, 51, 10))\n",
    "ax2.set_yticks(range(0, 51, 10))\n",
    "ax2.set_xlim(0, 50)\n",
    "ax2.set_ylim(0, 50)\n",
    "\n",
    "plt.tight_layout()\n",
    "plt.savefig(\"../report_figs/repulsive_frames.png\", dpi = 300)\n",
    "plt.show()"
   ]
  },
  {
   "cell_type": "markdown",
   "metadata": {},
   "source": [
    "### Order Parameter"
   ]
  },
  {
   "cell_type": "code",
   "execution_count": null,
   "metadata": {},
   "outputs": [],
   "source": [
    "repulsive_order = np.load(\"../plotting_data/bands_repulsive/order.npz\")\n",
    "repulsive_order_param = repulsive_order[\"order\"]\n",
    "repulsive_steady_reached = repulsive_order[\"steady_reached\"]\n",
    "repulsive_steady_time = repulsive_order[\"steady_time\"]\n",
    "\n",
    "time_step = 10\n",
    "    \n",
    "print(f\"order parameter length: {len(repulsive_order_param)}\")"
   ]
  },
  {
   "cell_type": "code",
   "execution_count": null,
   "metadata": {},
   "outputs": [],
   "source": [
    "fig, ax = plt.subplots(figsize = (3.5, 2.5))\n",
    "times = np.arange(0, 5000, 10)\n",
    "order, = ax.plot(times, repulsive_order_param, color = \"#228833\")\n",
    "order_colour = order.get_color()\n",
    "if repulsive_steady_reached == True:\n",
    "    ax.axvline(x = repulsive_steady_time * time_step, color = order_colour, linestyle = \"--\")\n",
    "ax.set_xlabel(\"t\")\n",
    "ax.set_ylabel(r\"$\\phi$(t)\")\n",
    "ax.set_xticks(np.arange(0, 5001, 1000))\n",
    "plt.tight_layout()\n",
    "# plt.savefig(\"Poster_city_order.png\", dpi = 300)\n",
    "plt.show()"
   ]
  },
  {
   "cell_type": "markdown",
   "metadata": {},
   "source": [
    "### Clustering"
   ]
  },
  {
   "cell_type": "code",
   "execution_count": null,
   "metadata": {},
   "outputs": [],
   "source": [
    "repulsive_clusters = np.load(\"../plotting_data/bands_repulsive/clusters.npz\")\n",
    "repulsive_num_clust = repulsive_clusters[\"num_clust\"]\n",
    "repulsive_particle_clust = repulsive_clusters[\"particle_clust\"]\n",
    "    \n",
    "print(f\"num clusters length: {len(repulsive_num_clust)}\")\n",
    "print(f\"particles/cluster length: {len(repulsive_particle_clust)}\")"
   ]
  },
  {
   "cell_type": "code",
   "execution_count": null,
   "metadata": {},
   "outputs": [],
   "source": [
    "fig, ax = plt.subplots(figsize = (3.5, 2.5))\n",
    "time_scale = np.arange(2000, 5001, 10)\n",
    "ax.plot(time_scale, repulsive_particle_clust[200:], color = \"#228833\")\n",
    "ax.set_xlabel(\"t\")\n",
    "ax.set_ylabel(\"$N_C$\")\n",
    "ax.set_xticks(np.arange(2000, 5001, 500))\n",
    "plt.tight_layout()\n",
    "# plt.savefig(\"Poster_city_clusters.png\", dpi = 300)\n",
    "plt.show()"
   ]
  },
  {
   "cell_type": "markdown",
   "metadata": {},
   "source": [
    "### Flux and Stream"
   ]
  },
  {
   "cell_type": "code",
   "execution_count": null,
   "metadata": {},
   "outputs": [],
   "source": [
    "repulsive_flow = np.load(\"../plotting_data/bands_repulsive/flow.npz\")\n",
    "repulsive_vx = repulsive_flow[\"vx\"]\n",
    "repulsive_vy = repulsive_flow[\"vy\"]\n",
    "repulsive_counts = repulsive_flow[\"counts\"]\n",
    "repulsive_vxedges = repulsive_flow[\"vxedges\"]\n",
    "repulsive_vyedges = repulsive_flow[\"vyedges\"]\n",
    "    \n",
    "print(f\"vx length: {len(repulsive_vx)}\")\n",
    "print(f\"vy length: {len(repulsive_vy)}\")\n",
    "print(f\"counts length: {len(repulsive_counts)}\")\n",
    "print(f\"vxedges length: {len(repulsive_vxedges)}\")\n",
    "print(f\"vyedges length: {len(repulsive_vyedges)}\")"
   ]
  },
  {
   "cell_type": "code",
   "execution_count": null,
   "metadata": {},
   "outputs": [],
   "source": [
    "avg_vx = np.zeros_like(repulsive_vx) # empty array for average x velocity flux\n",
    "avg_vy = np.zeros_like(repulsive_vy)\n",
    "avg_vx[repulsive_counts > 0] = repulsive_vx[repulsive_counts > 0] / repulsive_counts[repulsive_counts > 0] # calculate average velocity flux where counts > 0\n",
    "avg_vy[repulsive_counts > 0] = repulsive_vy[repulsive_counts > 0] / repulsive_counts[repulsive_counts > 0]\n",
    "\n",
    "X, Y = np.meshgrid(repulsive_vxedges[:-1], repulsive_vyedges[:-1])\n",
    "\n",
    "# only plot inside the box (not the movement in and out of the edges of the box)\n",
    "avg_vx_inner = avg_vx[1:-1, 1:-1]\n",
    "avg_vy_inner = avg_vy[1:-1, 1:-1]\n",
    "\n",
    "X_inner, Y_inner = np.meshgrid(repulsive_vxedges[1:avg_vx_inner.shape[0]+1], repulsive_vyedges[1:avg_vx_inner.shape[1]+1])"
   ]
  },
  {
   "cell_type": "code",
   "execution_count": null,
   "metadata": {},
   "outputs": [],
   "source": [
    "fig, ax = plt.subplots(figsize = (3.5, 3.5))\n",
    "ax.quiver(X_inner, Y_inner, avg_vx_inner.T, avg_vy_inner.T, scale = 20, headwidth = 5)\n",
    "ax.set_xlabel(\"x (r)\")\n",
    "ax.set_ylabel(\"y (r)\")\n",
    "ax.set_xticks(range(0, 51, 10))\n",
    "ax.set_yticks(range(0, 51, 10))\n",
    "ax.set_xlim(0, 50)\n",
    "ax.set_ylim(0, 50)\n",
    "plt.tight_layout()\n",
    "plt.savefig(\"../report_figs/repulsive_flux.png\", dpi = 300)\n",
    "plt.show()"
   ]
  },
  {
   "cell_type": "code",
   "execution_count": null,
   "metadata": {},
   "outputs": [],
   "source": [
    "fig, ax = plt.subplots(figsize = (3.5, 3.5))\n",
    "ax.streamplot(X_inner, Y_inner, avg_vx_inner.T, avg_vy_inner.T, density = 1, linewidth = 1, color = \"black\")\n",
    "ax.set_xlabel(\"x (r)\")\n",
    "ax.set_ylabel(\"y (r)\")\n",
    "ax.set_xticks(range(0, 51, 10))\n",
    "ax.set_yticks(range(0, 51, 10))\n",
    "ax.set_xlim(0, 50)\n",
    "ax.set_ylim(0, 50)\n",
    "plt.tight_layout()\n",
    "plt.savefig(\"../report_figs/repulsive_stream.png\", dpi = 300)\n",
    "plt.show()"
   ]
  },
  {
   "cell_type": "code",
   "execution_count": null,
   "metadata": {},
   "outputs": [],
   "source": [
    "fig, ax = plt.subplots(figsize = (3.5, 3.5))\n",
    "ax.quiver(X_inner, Y_inner, avg_vx_inner.T, avg_vy_inner.T, scale = 20, headwidth = 5, color = \"red\")\n",
    "ax.streamplot(X_inner, Y_inner, avg_vx_inner.T, avg_vy_inner.T, density = 1, linewidth = 1, color = \"black\")\n",
    "ax.add_patch(plt.Rectangle((barrier_x_start, barrier_y_start), barrier_x_end - barrier_x_start, barrier_y_end - barrier_y_start, color = \"grey\", alpha = 0.5))\n",
    "ax.set_xlabel(\"x (r)\")\n",
    "ax.set_ylabel(\"y (r)\")\n",
    "ax.set_xticks(range(0, 51, 10))\n",
    "ax.set_yticks(range(0, 51, 10))\n",
    "ax.set_xlim(0, 50)\n",
    "ax.set_ylim(0, 50)\n",
    "plt.tight_layout()\n",
    "plt.savefig(\"../report_figs/repulsive_flow.png\", dpi = 300)\n",
    "plt.show()"
   ]
  },
  {
   "cell_type": "markdown",
   "metadata": {},
   "source": [
    "### Average Angles"
   ]
  },
  {
   "cell_type": "code",
   "execution_count": null,
   "metadata": {},
   "outputs": [],
   "source": [
    "repulsive_avg_angs = np.load(\"../plotting_data/bands_repulsive/avg_ang.npz\")\n",
    "repulsive_avg_ang = repulsive_avg_angs[\"angles\"]\n",
    "\n",
    "time_step = 10\n",
    "    \n",
    "print(f\"average angles length: {len(repulsive_avg_ang)}\")"
   ]
  },
  {
   "cell_type": "code",
   "execution_count": null,
   "metadata": {},
   "outputs": [],
   "source": [
    "fig, ax = plt.subplots(figsize = (3.5, 2.5))\n",
    "times = np.arange(0, 5000, 10)\n",
    "ax.plot(times, repulsive_avg_ang)\n",
    "ax.set_xlabel(\"t\")\n",
    "ax.set_ylabel(r\"$\\theta$(t) (radians)\")\n",
    "ax.set_xticks(range(0, 5001, 1000))\n",
    "plt.tight_layout()\n",
    "# plt.savefig(\"repulsive_alignment_14.png\", dpi = 300)\n",
    "plt.show()"
   ]
  },
  {
   "cell_type": "markdown",
   "metadata": {},
   "source": [
    "### Histogram"
   ]
  },
  {
   "cell_type": "code",
   "execution_count": null,
   "metadata": {},
   "outputs": [],
   "source": [
    "repulsive_hist = np.load(\"../plotting_data/bands_repulsive/hist.npz\")\n",
    "repulsive_hist = repulsive_hist[\"hist\"]\n",
    "\n",
    "L = 50\n",
    "# normalise the histogram to cartesian coordinates for plotting\n",
    "hist_normalised = repulsive_hist.T / sum(repulsive_hist)\n",
    "    \n",
    "print(f\"hist length: {len(repulsive_hist)}\")"
   ]
  },
  {
   "cell_type": "code",
   "execution_count": null,
   "metadata": {},
   "outputs": [],
   "source": [
    "fig, ax = plt.subplots(figsize = (3.5, 3.5))\n",
    "cax = ax.imshow(hist_normalised, extent = [0, L, 0, L], origin = \"lower\", cmap = \"hot\", aspect = \"auto\")\n",
    "ax.set_xlabel(\"x (r)\")\n",
    "ax.set_ylabel(\"y (r)\")\n",
    "ax.set_xticks(range(0, 51, 10))\n",
    "ax.set_yticks(range(0, 51, 10))\n",
    "fig.colorbar(cax, ax = ax, label = r\"$\\rho$ ($rL^{-3}$)\")\n",
    "plt.tight_layout()\n",
    "# plt.savefig(\"repulsive_densitymap_14.png\", dpi = 300)\n",
    "plt.show()"
   ]
  },
  {
   "cell_type": "markdown",
   "metadata": {},
   "source": [
    "# Vicsek_bands_attractive"
   ]
  },
  {
   "cell_type": "markdown",
   "metadata": {},
   "source": [
    "### Start and End"
   ]
  },
  {
   "cell_type": "code",
   "execution_count": null,
   "metadata": {},
   "outputs": [],
   "source": [
    "attractive_paths = glob.glob(\"../plotting_data/bands_attractive/pos_ang*.npz\")\n",
    "attractive_paths.sort()\n",
    "\n",
    "attractive_start = np.load(attractive_paths[5])\n",
    "attractive_start_pos = attractive_start[\"positions\"]\n",
    "attractive_start_ang = attractive_start[\"angles\"]\n",
    "\n",
    "attractive_end = np.load(attractive_paths[-1])\n",
    "attractive_end_pos = attractive_end[\"positions\"]\n",
    "attractive_end_ang = attractive_end[\"angles\"]\n",
    "\n",
    "barrier_x_start, barrier_x_end = 15, 35\n",
    "barrier_y_start, barrier_y_end = 15, 35\n",
    "    \n",
    "print(f\"start positions length: {len(attractive_start_pos)}\")\n",
    "print(f\"start angles length: {len(attractive_start_ang)}\")\n",
    "print(f\"end positions length: {len(attractive_end_pos)}\")\n",
    "print(f\"end angles length: {len(attractive_end_ang)}\")"
   ]
  },
  {
   "cell_type": "code",
   "execution_count": null,
   "metadata": {},
   "outputs": [],
   "source": [
    "# fig, (ax1, ax2) = plt.subplots(1, 2, figsize = (7, 3))\n",
    "\n",
    "# ax1.set_aspect(\"equal\")\n",
    "# qv1 = ax1.quiver(attractive_start_pos[:,0], attractive_start_pos[:,1], np.cos(attractive_start_ang), np.sin(attractive_start_ang), attractive_start_ang, clim = [-np.pi, np.pi], cmap = \"hsv\")\n",
    "# qv1.set_offsets(attractive_start_pos)\n",
    "# qv1.set_UVC(np.cos(attractive_start_ang), np.sin(attractive_start_ang), attractive_start_ang)\n",
    "# ax1.add_patch(plt.Rectangle((barrier_x_start, barrier_y_start), barrier_x_end - barrier_x_start, barrier_y_end - barrier_y_start, color = \"grey\", alpha = 0.5))\n",
    "# ax1.add_patch(plt.Rectangle((barrier_x_start - boundary, barrier_y_start - boundary), (barrier_x_end + boundary) - (barrier_x_start - boundary), (barrier_y_end + boundary) - (barrier_y_start - boundary), edgecolor = \"grey\", fill = False))\n",
    "# ax1.set_title(\"Frame 3\")\n",
    "# ax1.set_xlabel(\"x (r)\")\n",
    "# ax1.set_ylabel(\"y (r)\")\n",
    "# ax1.set_xticks(range(0, 51, 10))\n",
    "# ax1.set_yticks(range(0, 51, 10))\n",
    "# ax1.set_xlim(0, 50)\n",
    "# ax1.set_ylim(0, 50)\n",
    "\n",
    "# ax2.set_aspect(\"equal\")\n",
    "\n",
    "fig, ax2 = plt.subplots(figsize = (3.5, 3.5))\n",
    "qv2 = ax2.quiver(attractive_end_pos[:,0], attractive_end_pos[:,1], np.cos(attractive_end_ang), np.sin(attractive_end_ang), attractive_end_ang, clim = [-np.pi, np.pi], cmap = \"hsv\")\n",
    "qv2.set_offsets(attractive_end_pos)\n",
    "qv2.set_UVC(np.cos(attractive_end_ang), np.sin(attractive_end_ang), attractive_end_ang)\n",
    "ax2.add_patch(plt.Rectangle((barrier_x_start, barrier_y_start), barrier_x_end - barrier_x_start, barrier_y_end - barrier_y_start, color = \"grey\", alpha = 0.5))\n",
    "ax2.set_xlabel(\"x (r)\")\n",
    "ax2.set_ylabel(\"y (r)\")\n",
    "ax2.set_xticks(range(0, 51, 10))\n",
    "ax2.set_yticks(range(0, 51, 10))\n",
    "ax2.set_xlim(0, 50)\n",
    "ax2.set_ylim(0, 50)\n",
    "\n",
    "plt.tight_layout()\n",
    "plt.savefig(\"../report_figs/attractive_frames.png\", dpi = 300)\n",
    "plt.show()"
   ]
  },
  {
   "cell_type": "markdown",
   "metadata": {},
   "source": [
    "### Flux and stream"
   ]
  },
  {
   "cell_type": "code",
   "execution_count": null,
   "metadata": {},
   "outputs": [],
   "source": [
    "attractive_flow = np.load(\"../plotting_data/bands_attractive/flow.npz\")\n",
    "attractive_vx = attractive_flow[\"vx\"]\n",
    "attractive_vy = attractive_flow[\"vy\"]\n",
    "attractive_counts = attractive_flow[\"counts\"]\n",
    "attractive_vxedges = attractive_flow[\"vxedges\"]\n",
    "attractive_vyedges = attractive_flow[\"vyedges\"]\n",
    "    \n",
    "print(f\"vx length: {len(attractive_vx)}\")\n",
    "print(f\"vy length: {len(attractive_vy)}\")\n",
    "print(f\"counts length: {len(attractive_counts)}\")\n",
    "print(f\"vxedges length: {len(attractive_vxedges)}\")\n",
    "print(f\"vyedges length: {len(attractive_vyedges)}\")"
   ]
  },
  {
   "cell_type": "code",
   "execution_count": null,
   "metadata": {},
   "outputs": [],
   "source": [
    "avg_vx = np.zeros_like(attractive_vx) # empty array for average x velocity flux\n",
    "avg_vy = np.zeros_like(attractive_vy)\n",
    "avg_vx[attractive_counts > 0] = attractive_vx[attractive_counts > 0] / attractive_counts[attractive_counts > 0] # calculate average velocity flux where counts > 0\n",
    "avg_vy[attractive_counts > 0] = attractive_vy[attractive_counts > 0] / attractive_counts[attractive_counts > 0]\n",
    "\n",
    "X, Y = np.meshgrid(attractive_vxedges[:-1], attractive_vyedges[:-1])\n",
    "\n",
    "# only plot inside the box (not the movement in and out of the edges of the box)\n",
    "avg_vx_inner = avg_vx[1:-1, 1:-1]\n",
    "avg_vy_inner = avg_vy[1:-1, 1:-1]\n",
    "\n",
    "X_inner, Y_inner = np.meshgrid(attractive_vxedges[1:avg_vx_inner.shape[0]+1], attractive_vyedges[1:avg_vx_inner.shape[1]+1])"
   ]
  },
  {
   "cell_type": "code",
   "execution_count": null,
   "metadata": {},
   "outputs": [],
   "source": [
    "fig, ax = plt.subplots(figsize = (3.5, 3.5))\n",
    "ax.quiver(X_inner, Y_inner, avg_vx_inner.T, avg_vy_inner.T, scale = 20, headwidth = 5)\n",
    "ax.set_xlabel(\"x (r)\")\n",
    "ax.set_ylabel(\"y (r)\")\n",
    "ax.set_xticks(range(0, 51, 10))\n",
    "ax.set_yticks(range(0, 51, 10))\n",
    "ax.set_xlim(0, 50)\n",
    "ax.set_ylim(0, 50)\n",
    "plt.tight_layout()\n",
    "plt.savefig(\"../report_figs/attractive_flux.png\", dpi = 300)\n",
    "plt.show()"
   ]
  },
  {
   "cell_type": "code",
   "execution_count": null,
   "metadata": {},
   "outputs": [],
   "source": [
    "fig, ax = plt.subplots(figsize = (3.5, 3.5))\n",
    "ax.streamplot(X_inner, Y_inner, avg_vx_inner.T, avg_vy_inner.T, density = 1, linewidth = 1, color = \"black\")\n",
    "ax.set_xlabel(\"x (r)\")\n",
    "ax.set_ylabel(\"y (r)\")\n",
    "ax.set_xticks(range(0, 51, 10))\n",
    "ax.set_yticks(range(0, 51, 10))\n",
    "ax.set_xlim(0, 50)\n",
    "ax.set_ylim(0, 50)\n",
    "plt.tight_layout()\n",
    "plt.savefig(\"../report_figs/attractive_stream.png\", dpi = 300)\n",
    "plt.show()"
   ]
  },
  {
   "cell_type": "code",
   "execution_count": null,
   "metadata": {},
   "outputs": [],
   "source": [
    "fig, ax = plt.subplots(figsize = (3.5, 3.5))\n",
    "ax.quiver(X_inner, Y_inner, avg_vx_inner.T, avg_vy_inner.T, scale = 20, headwidth = 5, color = \"red\")\n",
    "ax.streamplot(X_inner, Y_inner, avg_vx_inner.T, avg_vy_inner.T, density = 1, linewidth = 1, color = \"black\")\n",
    "ax.add_patch(plt.Rectangle((barrier_x_start, barrier_y_start), barrier_x_end - barrier_x_start, barrier_y_end - barrier_y_start, color = \"grey\", alpha = 0.5))\n",
    "ax.set_xlabel(\"x (r)\")\n",
    "ax.set_ylabel(\"y (r)\")\n",
    "ax.set_xticks(range(0, 51, 10))\n",
    "ax.set_yticks(range(0, 51, 10))\n",
    "ax.set_xlim(0, 50)\n",
    "ax.set_ylim(0, 50)\n",
    "plt.tight_layout()\n",
    "plt.savefig(\"../report_figs/attractive_flow.png\", dpi = 300)\n",
    "plt.show()"
   ]
  },
  {
   "cell_type": "markdown",
   "metadata": {},
   "source": [
    "# Combined Plots"
   ]
  },
  {
   "cell_type": "markdown",
   "metadata": {},
   "source": [
    "### Order Parameter"
   ]
  },
  {
   "cell_type": "code",
   "execution_count": null,
   "metadata": {},
   "outputs": [],
   "source": [
    "fig, ax = plt.subplots(figsize = (3.5, 2.5))\n",
    "\n",
    "times = np.arange(0, 5000, 10)\n",
    "\n",
    "bands_order2, = ax.plot(times, bands_order_param2, label = \"0\", color = \"#4477AA\")\n",
    "bands_colour2 = bands_order2.get_color()\n",
    "if bands_steady_reached2 == True:\n",
    "    ax.axvline(x = bands_steady_time2 * time_step, color = bands_colour2, linestyle = \"--\")\n",
    "\n",
    "repulsive_order, = ax.plot(times, repulsive_order_param, label = \"1\", color = \"#CCBB44\")\n",
    "repulsive_colour = repulsive_order.get_color()\n",
    "if repulsive_steady_reached == True:\n",
    "    ax.axvline(x = repulsive_steady_time * time_step, color = repulsive_colour, linestyle = \"--\")\n",
    "    \n",
    "city_order, = ax.plot(times, city_order_param, label = \"5\", color = \"#EE6677\")\n",
    "city_colour = city_order.get_color()\n",
    "if city_steady_reached == True:\n",
    "    ax.axvline(x = city_steady_time * time_step, color = city_colour, linestyle = \"--\")\n",
    "\n",
    "ax.legend(loc = \"lower right\", labelspacing = 0.1, handlelength = 1.0, handletextpad = 0.1, borderaxespad = 0.1)\n",
    "ax.set_xlabel(\"t\")\n",
    "ax.set_ylabel(r\"$\\phi$(t)\")\n",
    "ax.set_xticks(np.arange(0, 5001, 1000))\n",
    "ax.set_ylim(0.0, 1.0)\n",
    "plt.tight_layout()\n",
    "plt.savefig(\"../report_figs/all_order.png\", dpi = 300)\n",
    "plt.show()"
   ]
  },
  {
   "cell_type": "markdown",
   "metadata": {},
   "source": [
    "### Clustering"
   ]
  },
  {
   "cell_type": "code",
   "execution_count": null,
   "metadata": {},
   "outputs": [],
   "source": [
    "fig, ax = plt.subplots(figsize = (3.5, 2.5))\n",
    "\n",
    "time_scale = np.arange(3000, 5001, 10)\n",
    "ax.plot(time_scale, bands_particle_clust2[300:], label = \"0\", color = \"#4477AA\")\n",
    "ax.plot(time_scale, repulsive_particle_clust[300:], label = \"1\", color = \"#CCBB44\")\n",
    "ax.plot(time_scale, city_particle_clust[300:], label = \"5\", color = \"#EE6677\")\n",
    "\n",
    "ax.legend(loc = \"upper right\", labelspacing = 0.1, handlelength = 1.0, handletextpad = 0.1, borderaxespad = 0.1)\n",
    "ax.set_xlabel(\"t\")\n",
    "ax.set_ylabel(\"$N_C$\")\n",
    "ax.set_xticks(np.arange(3000, 5001, 500))\n",
    "ax.set_ylim(0, 800)\n",
    "plt.tight_layout()\n",
    "plt.savefig(\"../report_figs/all_clusters.png\", dpi = 300)\n",
    "plt.show()"
   ]
  },
  {
   "cell_type": "code",
   "execution_count": null,
   "metadata": {},
   "outputs": [],
   "source": [
    "def clusters(positions, L, threshold):\n",
    "    # taking into account periodic boundary conditions\n",
    "    total = 0\n",
    "    for d in range(positions.shape[1]):\n",
    "        pd = pdist(positions[:, d].reshape(positions.shape[0],1))\n",
    "        pd[pd > L * 0.5] -= L\n",
    "        total += pd ** 2\n",
    "    total = np.sqrt(total)\n",
    "    square = squareform(total)\n",
    "    \n",
    "    # clustering\n",
    "    clustering = DBSCAN(eps = threshold, metric = \"precomputed\").fit(square)\n",
    "    labels = clustering.labels_ # assign cluster labels to each point (points labelled -1 are noise)\n",
    "    unique_labels = set(labels) # unique clustering labels\n",
    "    \n",
    "    # exclude noise in number of clusters calculation\n",
    "    if -1 in labels:\n",
    "        num_clusters = len(unique_labels) - 1\n",
    "    else:\n",
    "        num_clusters = len(unique_labels)\n",
    "        \n",
    "    # average number of particles per cluster\n",
    "    if num_clusters > 0:\n",
    "        cluster_particles = len(positions) / num_clusters\n",
    "    else:\n",
    "        cluster_particles = 0\n",
    "        \n",
    "    return labels, num_clusters, cluster_particles"
   ]
  },
  {
   "cell_type": "code",
   "execution_count": null,
   "metadata": {},
   "outputs": [],
   "source": [
    "L = 50\n",
    "cluster_threshold = 1.0\n",
    "barrier_x_start, barrier_x_end = 15, 35\n",
    "barrier_y_start, barrier_y_end = 15, 35\n",
    "\n",
    "labels, num_clusters, cluster_particles = clusters(bands_end_pos, L, cluster_threshold)\n",
    "bands_labels = set(labels)\n",
    "bands_colors = plt.cm.Spectral(np.linspace(0, 1, len(bands_labels)))\n",
    "\n",
    "labels, num_clusters, cluster_particles = clusters(repulsive_end_pos, L, cluster_threshold)\n",
    "repulsive_labels = set(labels)\n",
    "repulsive_colors = plt.cm.Spectral(np.linspace(0, 1, len(repulsive_labels)))\n",
    "\n",
    "labels, num_clusters, cluster_particles = clusters(city_end_pos, L, cluster_threshold)\n",
    "city_labels = set(labels)\n",
    "city_colors = plt.cm.Spectral(np.linspace(0, 1, len(city_labels)))"
   ]
  },
  {
   "cell_type": "code",
   "execution_count": null,
   "metadata": {},
   "outputs": [],
   "source": [
    "fig, (ax1, ax2, ax3) = plt.subplots(3, 1, figsize = (3.5, 10.5))\n",
    "\n",
    "for k, col in zip(bands_labels, bands_colors):\n",
    "    if k == -1:\n",
    "        col = \"k\"\n",
    "        \n",
    "    class_member_mask = (labels == k)\n",
    "    \n",
    "    xy = bands_end_pos[class_member_mask]\n",
    "    ax1.plot(xy[:, 0], xy[:, 1], \"o\", markerfacecolor = col, markeredgecolor = \"k\", markersize = 3)\n",
    "\n",
    "ax1.set_xlabel(\"x (r)\")\n",
    "ax1.set_ylabel(\"y (r)\")\n",
    "ax1.set_xticks(range(0, 51, 10))\n",
    "ax1.set_yticks(range(0, 51, 10))\n",
    "ax1.set_xlim(0, 50)\n",
    "ax1.set_ylim(0, 50)\n",
    "\n",
    "ax2.add_patch(plt.Rectangle((barrier_x_start, barrier_y_start), barrier_x_end - barrier_x_start, barrier_y_end - barrier_y_start, color = \"grey\", alpha = 0.5))\n",
    "ax2.add_patch(plt.Rectangle((barrier_x_start - boundary, barrier_y_start - boundary), (barrier_x_end + boundary) - (barrier_x_start - boundary), (barrier_y_end + boundary) - (barrier_y_start - boundary), edgecolor = \"grey\", fill = False, linestyle = \"--\"))\n",
    "\n",
    "for k, col in zip(repulsive_labels, repulsive_colors):\n",
    "    if k == -1:\n",
    "        col = \"k\"\n",
    "        \n",
    "    class_member_mask = (labels == k)\n",
    "    \n",
    "    xy = repulsive_end_pos[class_member_mask]\n",
    "    ax2.plot(xy[:, 0], xy[:, 1], \"o\", markerfacecolor = col, markeredgecolor = \"k\", markersize = 3)\n",
    "\n",
    "ax2.set_xlabel(\"x (r)\")\n",
    "ax2.set_ylabel(\"y (r)\")\n",
    "ax2.set_xticks(range(0, 51, 10))\n",
    "ax2.set_yticks(range(0, 51, 10))\n",
    "ax2.set_xlim(0, 50)\n",
    "ax2.set_ylim(0, 50)\n",
    "\n",
    "for barrier_x_start, barrier_x_end, barrier_y_start, barrier_y_end in city_barriers:\n",
    "    ax3.add_patch(plt.Rectangle((barrier_x_start, barrier_y_start), barrier_x_end - barrier_x_start, barrier_y_end - barrier_y_start, color = \"grey\", alpha = 0.5))\n",
    "    ax3.add_patch(plt.Rectangle((barrier_x_start - boundary, barrier_y_start - boundary), (barrier_x_end + boundary) - (barrier_x_start - boundary), (barrier_y_end + boundary) - (barrier_y_start - boundary), edgecolor = \"grey\", fill = False, linestyle = \"--\"))\n",
    "\n",
    "for k, col in zip(city_labels, city_colors):\n",
    "    if k == -1:\n",
    "        col = \"k\"\n",
    "        \n",
    "    class_member_mask = (labels == k)\n",
    "    \n",
    "    xy = city_end_pos[class_member_mask]\n",
    "    ax3.plot(xy[:, 0], xy[:, 1], \"o\", markerfacecolor = col, markeredgecolor = \"k\", markersize = 3)\n",
    "\n",
    "ax3.set_xlabel(\"x (r)\")\n",
    "ax3.set_ylabel(\"y (r)\")\n",
    "ax3.set_xticks(range(0, 51, 10))\n",
    "ax3.set_yticks(range(0, 51, 10))\n",
    "ax3.set_xlim(0, 50)\n",
    "ax3.set_ylim(0, 50)\n",
    "\n",
    "plt.tight_layout()\n",
    "# plt.savefig(\"city_clustervis.png\", dpi = 300)   \n",
    "plt.show()"
   ]
  },
  {
   "cell_type": "code",
   "execution_count": null,
   "metadata": {},
   "outputs": [],
   "source": []
  }
 ],
 "metadata": {
  "kernelspec": {
   "display_name": "Python 3",
   "language": "python",
   "name": "python3"
  },
  "language_info": {
   "codemirror_mode": {
    "name": "ipython",
    "version": 3
   },
   "file_extension": ".py",
   "mimetype": "text/x-python",
   "name": "python",
   "nbconvert_exporter": "python",
   "pygments_lexer": "ipython3",
   "version": "3.12.6"
  }
 },
 "nbformat": 4,
 "nbformat_minor": 2
}
